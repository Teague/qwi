{
 "cells": [
  {
   "cell_type": "markdown",
   "metadata": {},
   "source": [
    "<h1> Washington Workforce Demographics by Industry and County"
   ]
  },
  {
   "cell_type": "code",
   "execution_count": 1,
   "metadata": {},
   "outputs": [],
   "source": [
    "import pandas as pd\n",
    "from ipywidgets import widgets\n",
    "pd.options.display.max_columns = 100"
   ]
  },
  {
   "cell_type": "code",
   "execution_count": 5,
   "metadata": {},
   "outputs": [],
   "source": [
    "df=pd.read_csv('QWI.csv')"
   ]
  },
  {
   "cell_type": "code",
   "execution_count": 6,
   "metadata": {},
   "outputs": [],
   "source": [
    "lookup=pd.pivot_table(df,index=['COUNTY_NAME','county','COUNTYFPL','ind_name','industry'],columns='race_name',values='Emp',aggfunc='sum')\n",
    "lookup.reset_index(inplace=True)\n",
    "lookup['Non White']=lookup['American Indian or Alaska Native Alone']+lookup['Black or African American Alone']+lookup['Native Hawaiian or Other Pacific Islander Alone']+lookup['Two or More Race Groups']+lookup['Asian Alone']\n",
    "lookup['% American Indian or Alaska Native Alone']=lookup['American Indian or Alaska Native Alone']/lookup['All Races']\n",
    "lookup['% Asian Alone']=lookup['Asian Alone']/lookup['All Races']\n",
    "lookup['% Hispanic or Latino']=lookup['Hispanic or Latino']/lookup['All Races']\n",
    "lookup['% Black or African American Alone']=lookup['Black or African American Alone']/lookup['All Races']\n",
    "lookup['% Native Hawaiian or Other Pacific Islander Alone']=lookup['Native Hawaiian or Other Pacific Islander Alone']/lookup['All Races']\n",
    "lookup['% Two or More Race Groups']=lookup['Two or More Race Groups']/lookup['All Races']\n",
    "lookup['% White Alone']=lookup['White Alone']/lookup['All Races']\n",
    "lookup['% Non White']=lookup['Non White']/lookup['All Races']\n",
    "\n",
    "#lookup[['COUNTY_NAME','ind_name','All Races','% American Indian or Alaska Native Alone','% Asian Alone','% Hispanic or Latino','% Black or African American Alone','% Native Hawaiian or Other Pacific Islander Alone','% Two or More Race Groups','% White Alone','% Non White']].head(25).style.format({\"% American Indian or Alaska Native Alone\": \"{:.2%}\",\"% Asian Alone\": \"{:.2%}\",\"% Hispanic or Latino\": \"{:.2%}\",\"% Black or African American Alone\": \"{:.2%}\",\"% Native Hawaiian or Other Pacific Islander Alone\": \"{:.2%}\",\"% Two or More Race Groups\": \"{:.2%}\",\"% White Alone\": \"{:.2%}\",\"% Non White\": \"{:.2%}\"})"
   ]
  },
  {
   "cell_type": "code",
   "execution_count": null,
   "metadata": {},
   "outputs": [],
   "source": [
    "    r=widgets.Dropdown(options=['% American Indian or Alaska Native Alone','% Asian Alone','% Hispanic or Latino','% Black or African American Alone','% Native Hawaiian or Other Pacific Islander Alone','% Two or More Race Groups','% Non White'],description='Race/Ethnicity:',disabled=False,)\n",
    "    c=widgets.Dropdown(options=lookup['COUNTY_NAME'].drop_duplicates(),description='County:',disabled=False,)\n",
    "    i=widgets.Dropdown(options=lookup['ind_name'].drop_duplicates(),description='Industry:',disabled=False,)\n",
    "\n",
    "\n",
    "    c.value='Pierce'\n",
    "    r.value='% Hispanic or Latino'"
   ]
  },
  {
   "cell_type": "code",
   "execution_count": 25,
   "metadata": {},
   "outputs": [],
   "source": [
    "def update_map(r,c):\n",
    "    try:\n",
    "        example=lookup[lookup['COUNTY_NAME']==c].drop_duplicates().dropna()\n",
    "        \n",
    "        display(example[['COUNTY_NAME','ind_name','All Races','% American Indian or Alaska Native Alone','% Asian Alone','% Black or African American Alone','% Native Hawaiian or Other Pacific Islander Alone','% Two or More Race Groups','% Non White','% Hispanic or Latino']].drop_duplicates()\\\n",
    "        .sort_values(r, ascending=False).style.format({\"% American Indian or Alaska Native Alone\": \"{:.2%}\",\"% Asian Alone\": \"{:.2%}\",\"% Hispanic or Latino\": \"{:.2%}\",\"% Black or African American Alone\": \"{:.2%}\",\"% Native Hawaiian or Other Pacific Islander Alone\": \"{:.2%}\",\"% Two or More Race Groups\": \"{:.2%}\",\"% Non White\": \"{:.2%}\"\n",
    "        }).background_gradient(cmap='Blues',low=0,high=1.5).background_gradient(cmap='Reds', subset=r).hide_index())\n",
    "    except Exception as e: print(e)"
   ]
  },
  {
   "cell_type": "markdown",
   "metadata": {},
   "source": [
    "<h2> Please select a county and race or ethnicity"
   ]
  },
  {
   "cell_type": "code",
   "execution_count": 26,
   "metadata": {},
   "outputs": [
    {
     "data": {
      "application/vnd.jupyter.widget-view+json": {
       "model_id": "c243a2c9f06e400a9e83913fa69c8ae8",
       "version_major": 2,
       "version_minor": 0
      },
      "text/plain": [
       "interactive(children=(Dropdown(description='Race/Ethnicity:', index=2, options=('% American Indian or Alaska N…"
      ]
     },
     "metadata": {},
     "output_type": "display_data"
    }
   ],
   "source": [
    "widgets.interactive(update_map, r=r, c=c)"
   ]
  },
  {
   "cell_type": "code",
   "execution_count": null,
   "metadata": {},
   "outputs": [],
   "source": []
  }
 ],
 "metadata": {
  "kernelspec": {
   "display_name": "Python 3",
   "language": "python",
   "name": "python3"
  },
  "toc": {
   "base_numbering": 1,
   "nav_menu": {},
   "number_sections": true,
   "sideBar": true,
   "skip_h1_title": false,
   "title_cell": "Table of Contents",
   "title_sidebar": "Contents",
   "toc_cell": false,
   "toc_position": {},
   "toc_section_display": true,
   "toc_window_display": false
  },
  "varInspector": {
   "cols": {
    "lenName": 16,
    "lenType": 16,
    "lenVar": 40
   },
   "kernels_config": {
    "python": {
     "delete_cmd_postfix": "",
     "delete_cmd_prefix": "del ",
     "library": "var_list.py",
     "varRefreshCmd": "print(var_dic_list())"
    },
    "r": {
     "delete_cmd_postfix": ") ",
     "delete_cmd_prefix": "rm(",
     "library": "var_list.r",
     "varRefreshCmd": "cat(var_dic_list()) "
    }
   },
   "types_to_exclude": [
    "module",
    "function",
    "builtin_function_or_method",
    "instance",
    "_Feature"
   ],
   "window_display": false
  }
 },
 "nbformat": 4,
 "nbformat_minor": 4
}
